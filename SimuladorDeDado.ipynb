{
 "cells": [
  {
   "cell_type": "code",
   "execution_count": 3,
   "id": "fa7739e5",
   "metadata": {},
   "outputs": [
    {
     "name": "stdout",
     "output_type": "stream",
     "text": [
      "Requirement already satisfied: pysimplegui in c:\\users\\rafael.rosa\\anaconda3\\lib\\site-packages (4.60.1)\n",
      "Note: you may need to restart the kernel to use updated packages.\n"
     ]
    }
   ],
   "source": [
    "pip install pysimplegui"
   ]
  },
  {
   "cell_type": "code",
   "execution_count": 4,
   "id": "41dfc058",
   "metadata": {},
   "outputs": [
    {
     "name": "stdout",
     "output_type": "stream",
     "text": [
      "6\n"
     ]
    }
   ],
   "source": [
    "# Simulador de Dado\n",
    "# Simular o uso de um dado, gerando um valor de 1 até 6\n",
    "import random\n",
    "import PySimpleGUI as sg\n",
    "\n",
    "class SimuladorDeDado:\n",
    "    def __init__(self):\n",
    "        self.valor_minimo = 1\n",
    "        self.valor_maximo = 6\n",
    "        # Layout\n",
    "        self.layout = [\n",
    "            [sg.Text('Jogar o dado?')],\n",
    "            [sg.Button('Sim'),sg.Button('Não')]\n",
    "        ]\n",
    "        \n",
    "    def Iniciar(self):\n",
    "        # criar uma janela\n",
    "        self.janela = sg.Window('Simulador de Dado',layout=self.layout)\n",
    "        # ler os valores da tela\n",
    "        self.eventos, self.valores = self.janela.Read()\n",
    "        # fazer alguma coisa com esses valores\n",
    "        try:\n",
    "            if self.eventos == 'Sim' or self.eventos == 'S':\n",
    "                self.GerarValorDoDado()\n",
    "            elif self.eventos == 'Não' or self.eventos == 'N':\n",
    "                print('Agrecemos a sua participação!')\n",
    "            else:\n",
    "                print('Por favor escolher sim ou não')\n",
    "        except:\n",
    "            print('Ocorreu um erro ao receber sua resposta')\n",
    "\n",
    "    def GerarValorDoDado(self):\n",
    "        print(random.randint(self.valor_minimo, self.valor_maximo))\n",
    "        \n",
    "simulador = SimuladorDeDado()\n",
    "simulador.Iniciar()"
   ]
  }
 ],
 "metadata": {
  "kernelspec": {
   "display_name": "Python 3",
   "language": "python",
   "name": "python3"
  },
  "language_info": {
   "codemirror_mode": {
    "name": "ipython",
    "version": 3
   },
   "file_extension": ".py",
   "mimetype": "text/x-python",
   "name": "python",
   "nbconvert_exporter": "python",
   "pygments_lexer": "ipython3",
   "version": "3.8.8"
  }
 },
 "nbformat": 4,
 "nbformat_minor": 5
}
